{
 "cells": [
  {
   "cell_type": "code",
   "execution_count": 2,
   "id": "5cca569b-af48-4ad7-a4d8-9b48118607fa",
   "metadata": {},
   "outputs": [],
   "source": [
    "#https://machinelearningmastery.com/loss-functions-in-pytorch-models/\n",
    "#Training Deep Neural Networks on Imbalanced Data Sets Shoujin Wang \u0014 , Wei Liu \u0014 , Jia Wu \u0015 , Longbing Cao \u0014 , Qinxue Meng \u0015 , Paul J. Kennedy \u0015\n",
    "#https://medium.com/@mustafa.kamalzhd/writing-a-custom-loss-in-pytorch-part-1-7dd857934f48#:~:text=To%20write%20a%20custom%20loss,input%20and%20computes%20the%20loss.\n",
    "import torch \n",
    "import torch.nn as nn\n",
    "import numpy as np"
   ]
  },
  {
   "cell_type": "code",
   "execution_count": 3,
   "id": "23d45400-13fc-4fda-a9bb-9eb0d16f9b08",
   "metadata": {},
   "outputs": [],
   "source": [
    "class MSFELoss(nn.Module):\n",
    "\n",
    "    \"\"\"\n",
    "        Class to represent the Mean Squared False Error loss. \n",
    "\n",
    "    \"\"\"\n",
    "    \n",
    "    def __init__(self):\n",
    "        \n",
    "        \"\"\"\n",
    "            Initializes the Mean Squared False Error loss. \n",
    "\n",
    "        \"\"\"\n",
    "        \n",
    "        super(MSFELoss, self).__init__()\n",
    "\n",
    "    def forward(self, pred, target):\n",
    "\n",
    "        \"\"\"\n",
    "            Forward function to create the loss function to be used in neural networks. \n",
    "\n",
    "            Args:\n",
    "                pred (torch.tensor): Tensor for predicted values.\n",
    "                target (torch.tensor): Tensor for target values.\n",
    "\n",
    "            Returns: \n",
    "                loss: The Mean Squared False Error loss for imbalanced datasets. \n",
    "        \"\"\"\n",
    "        \n",
    "        yi = torch.sigmoid(pred)\n",
    "\n",
    "        error = ((target - yi)**2)/2\n",
    "\n",
    "        N_tot = torch.sum(error*(target==0), dtype=torch.float32)\n",
    "        P_tot = torch.sum(error*(target==1), dtype=torch.float32)\n",
    "\n",
    "        fne = N_tot / torch.sum((target==0), dtype=torch.float32)\n",
    "        fpe = P_tot / torch.sum((target==1), dtype=torch.float32)\n",
    "\n",
    "        loss = fne**2 + fpe**2\n",
    "        \n",
    "        return loss"
   ]
  }
 ],
 "metadata": {
  "kernelspec": {
   "display_name": "Python 3 (ipykernel)",
   "language": "python",
   "name": "python3"
  },
  "language_info": {
   "codemirror_mode": {
    "name": "ipython",
    "version": 3
   },
   "file_extension": ".py",
   "mimetype": "text/x-python",
   "name": "python",
   "nbconvert_exporter": "python",
   "pygments_lexer": "ipython3",
   "version": "3.10.13"
  }
 },
 "nbformat": 4,
 "nbformat_minor": 5
}
