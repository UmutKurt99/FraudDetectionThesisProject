{
 "cells": [
  {
   "cell_type": "code",
   "execution_count": 2,
   "id": "e3090e8c-0ed8-4532-bbcf-f52b2d0300b6",
   "metadata": {},
   "outputs": [],
   "source": [
    "#https://medium.com/visionwizard/understanding-focal-loss-a-quick-read-b914422913e7\n",
    "#https://discuss.pytorch.org/t/is-this-a-correct-implementation-for-focal-loss-in-pytorch/43327/6\n",
    "#https://saturncloud.io/blog/how-to-use-class-weights-with-focal-loss-in-pytorch-for-imbalanced-multiclass-classification/\n",
    "import torch\n",
    "import numpy as np\n",
    "import pandas as pd \n",
    "import torch.nn as nn\n",
    "from torch.utils.data import DataLoader, TensorDataset\n"
   ]
  },
  {
   "cell_type": "code",
   "execution_count": 5,
   "id": "795327ad-a384-4e79-91bd-4ee809278a88",
   "metadata": {},
   "outputs": [],
   "source": [
    "class FocalLoss(nn.Module):\n",
    "\n",
    "    \"\"\"\n",
    "        Class to represent the custom loss function, Focal Loss.\n",
    "\n",
    "        Attributes: \n",
    "            alpha (float): Balancing factor.  \n",
    "            gamma (float): Modulating factor to influence the impact of classifications. (#https://medium.com/geekculture/everything-about-focal-loss-f2d8ab294133)\n",
    "    \"\"\"\n",
    "    \n",
    "    def __init__(self, alpha, gamma): \n",
    "\n",
    "        \"\"\"\n",
    "            Initializes the focal loss. \n",
    "            \n",
    "            Args: \n",
    "                alpha (float): Balancing factor.  \n",
    "                gamma (float): Modulating factor to influence the impact of classifications. (#https://medium.com/geekculture/everything-about-focal-loss-f2d8ab294133).\n",
    "        \n",
    "        \"\"\"    \n",
    "    \n",
    "        super().__init__()\n",
    "        self.alpha = alpha\n",
    "        self.gamma = gamma \n",
    "\n",
    "    def forward(self, y_pred_logits, y_true):\n",
    "\n",
    "        \"\"\"\n",
    "            Derives the focal loss from Binary Cross Entropy (BCE).\n",
    "\n",
    "            Returns: \n",
    "                loss function: The mean of the focal loss to be used as a loss function in neural networks. \n",
    "        \"\"\"\n",
    "        \n",
    "        BCE_loss = nn.BCEWithLogitsLoss(reduction=\"none\")\n",
    "\n",
    "        loss = BCE_loss(y_pred_logits, y_true)\n",
    "\n",
    "        pt = torch.exp(-loss)\n",
    "\n",
    "        focal = -self.alpha*((1-pt)**self.gamma)*torch.log(pt)\n",
    "\n",
    "        return focal.mean() "
   ]
  }
 ],
 "metadata": {
  "kernelspec": {
   "display_name": "Python 3 (ipykernel)",
   "language": "python",
   "name": "python3"
  },
  "language_info": {
   "codemirror_mode": {
    "name": "ipython",
    "version": 3
   },
   "file_extension": ".py",
   "mimetype": "text/x-python",
   "name": "python",
   "nbconvert_exporter": "python",
   "pygments_lexer": "ipython3",
   "version": "3.10.13"
  }
 },
 "nbformat": 4,
 "nbformat_minor": 5
}
